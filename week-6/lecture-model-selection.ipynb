{
 "cells": [
  {
   "cell_type": "markdown",
   "metadata": {
    "colab_type": "text",
    "id": "0MRC0e0KhQ0S",
    "slideshow": {
     "slide_type": "slide"
    }
   },
   "source": [
    "# Model Selection"
   ]
  },
  {
   "cell_type": "markdown",
   "metadata": {
    "slideshow": {
     "slide_type": "subslide"
    }
   },
   "source": [
    "## Introduction\n",
    "\n",
    "*  Model Selection is the process of choosing the best model among all the potential candidate models for a given problem. \n",
    "*  The aim of the model selection process is to select a machine learning algorithm that evaluates to perform well against all the different parameters."
   ]
  },
  {
   "cell_type": "markdown",
   "metadata": {
    "slideshow": {
     "slide_type": "slide"
    }
   },
   "source": [
    "## Outline\n",
    "\n",
    "* Over-fitting and under-fitting\n",
    "* Bias variance tradeoff\n",
    "* L1 and L2 Regularization\n",
    "* Early stopping\n",
    "* Dropout\n",
    "* Tuning the hyper-parameters of an estimator"
   ]
  },
  {
   "cell_type": "markdown",
   "metadata": {
    "slideshow": {
     "slide_type": "slide"
    }
   },
   "source": [
    "## Over-fitting and under-fitting\n",
    "\n",
    "- Regression\n",
    "  \n",
    "![](img/under_over_justalright.png)"
   ]
  },
  {
   "cell_type": "markdown",
   "metadata": {
    "slideshow": {
     "slide_type": "subslide"
    }
   },
   "source": [
    "## Over-fitting and under-fitting\n",
    "\n",
    "- Regression\n",
    "    - Training data points\n",
    "\n",
    "![](img/bias-variance-datapoints.jpg)\n"
   ]
  },
  {
   "cell_type": "markdown",
   "metadata": {
    "slideshow": {
     "slide_type": "subslide"
    }
   },
   "source": [
    "## Over-fitting and under-fitting\n",
    "\n",
    "- Regression\n",
    "    - Over-fitting model fits very well on training data\n",
    "\n",
    "![](img/bias-variance-overfitting.jpg)"
   ]
  },
  {
   "cell_type": "markdown",
   "metadata": {
    "slideshow": {
     "slide_type": "subslide"
    }
   },
   "source": [
    "## Over-fitting and under-fitting\n",
    "\n",
    "- Regression\n",
    "    - Over-fitting model fits poorly on test data\n",
    "\n",
    "![](img/bias-variance-overfitting-testdata.jpg)"
   ]
  },
  {
   "cell_type": "markdown",
   "metadata": {
    "slideshow": {
     "slide_type": "subslide"
    }
   },
   "source": [
    "## Over-fitting and under-fitting\n",
    "\n",
    "- Regression\n",
    "    - Under-fitting model fits poorly on training data\n",
    "\n",
    "![](img/bias-variance-underfitting.jpg)"
   ]
  },
  {
   "cell_type": "markdown",
   "metadata": {
    "slideshow": {
     "slide_type": "subslide"
    }
   },
   "source": [
    "## Over-fitting and under-fitting\n",
    "\n",
    "- Regression\n",
    "    - Under-fitting model fits poorly on test data\n",
    "\n",
    "![](img/bias-variance-underfitting-test-data.jpg)"
   ]
  },
  {
   "cell_type": "markdown",
   "metadata": {
    "slideshow": {
     "slide_type": "subslide"
    }
   },
   "source": [
    "## Over-fitting and under-fitting\n",
    "\n",
    "- Classification\n",
    "\n",
    "![](img/classification.png)"
   ]
  },
  {
   "cell_type": "markdown",
   "metadata": {
    "slideshow": {
     "slide_type": "slide"
    }
   },
   "source": [
    "## Bias variance tradeoff\n",
    "\n",
    "- Graphical illustration of variance and bias \n",
    "\n",
    "![](img/graphicalillustration.png)"
   ]
  },
  {
   "cell_type": "markdown",
   "metadata": {
    "slideshow": {
     "slide_type": "subslide"
    }
   },
   "source": [
    "## Bias variance tradeoff\n",
    "\n",
    "- Model complexity v.s. error\n",
    "\n",
    "![](img/total_error.png)"
   ]
  },
  {
   "cell_type": "markdown",
   "metadata": {
    "slideshow": {
     "slide_type": "slide"
    }
   },
   "source": [
    "## L1 and L2 regularization\n",
    "\n",
    "$$L2\\ Loss = Loss + {\\lambda}\\sum_{i} w_i^2$$\n",
    "\n",
    "$$L1\\ Loss = Loss +  {\\lambda}\\sum_{i} \\lvert w \\rvert$$"
   ]
  },
  {
   "cell_type": "markdown",
   "metadata": {
    "slideshow": {
     "slide_type": "subslide"
    }
   },
   "source": [
    "## L1 and L2 Regularization\n",
    "\n",
    "![](img/circlesquare.png)"
   ]
  },
  {
   "cell_type": "markdown",
   "metadata": {
    "slideshow": {
     "slide_type": "subslide"
    }
   },
   "source": [
    "## L1 and L2 Regularization\n",
    "\n",
    "![](img/L1L2contour.png)"
   ]
  },
  {
   "cell_type": "markdown",
   "metadata": {
    "slideshow": {
     "slide_type": "subslide"
    }
   },
   "source": [
    "## L1 and L2 Regularization\n",
    "\n",
    "![](img/ridgelassoItayEvron.gif)"
   ]
  },
  {
   "cell_type": "markdown",
   "metadata": {
    "slideshow": {
     "slide_type": "subslide"
    }
   },
   "source": [
    "## L1 and L2 Regularization\n",
    "\n",
    "![](img/p-norm_balls.webp)"
   ]
  },
  {
   "cell_type": "markdown",
   "metadata": {
    "slideshow": {
     "slide_type": "subslide"
    }
   },
   "source": [
    "## L1 and L2 Regularization\n",
    "- The impact of the value of $\\lambda$ \n",
    "  \n",
    "![](img/lagrange-animation.gif)"
   ]
  },
  {
   "cell_type": "markdown",
   "metadata": {
    "slideshow": {
     "slide_type": "slide"
    }
   },
   "source": [
    "## Early stopping\n",
    "  \n",
    "![](img/traintestoverfitting.png)"
   ]
  },
  {
   "cell_type": "markdown",
   "metadata": {
    "slideshow": {
     "slide_type": "subslide"
    }
   },
   "source": [
    "## Dropout\n",
    "  \n",
    "![](img/dropoutgif.gif)"
   ]
  },
  {
   "cell_type": "markdown",
   "metadata": {
    "slideshow": {
     "slide_type": "subslide"
    }
   },
   "source": [
    "## Prediction after dropout\n",
    "  \n",
    "![](img/kUc8r.jpg)"
   ]
  },
  {
   "cell_type": "markdown",
   "metadata": {
    "slideshow": {
     "slide_type": "slide"
    }
   },
   "source": [
    "## Conclusions\n",
    "\n",
    "- Training size matters\n",
    "\n",
    "![](img/ZahidHasan.png)"
   ]
  },
  {
   "cell_type": "markdown",
   "metadata": {
    "slideshow": {
     "slide_type": "subslide"
    }
   },
   "source": [
    "## Conclusions\n",
    "\n",
    "- How to choose a good model\n",
    "\n",
    "![](img/steps.png)"
   ]
  },
  {
   "cell_type": "markdown",
   "metadata": {
    "slideshow": {
     "slide_type": "subslide"
    }
   },
   "source": [
    "## Conclusions\n",
    "\n",
    "![](img/Bias-vs.webp)"
   ]
  }
 ],
 "metadata": {
  "celltoolbar": "Slideshow",
  "colab": {
   "authorship_tag": "ABX9TyOsvB/iqEjYj3VN6C/JbvkE",
   "collapsed_sections": [],
   "machine_shape": "hm",
   "name": "logistic_regression.ipynb",
   "provenance": [],
   "toc_visible": true
  },
  "kernelspec": {
   "display_name": "Python 3 (ipykernel)",
   "language": "python",
   "name": "python3"
  },
  "language_info": {
   "codemirror_mode": {
    "name": "ipython",
    "version": 3
   },
   "file_extension": ".py",
   "mimetype": "text/x-python",
   "name": "python",
   "nbconvert_exporter": "python",
   "pygments_lexer": "ipython3",
   "version": "3.10.6"
  },
  "toc": {
   "base_numbering": 1,
   "nav_menu": {},
   "number_sections": true,
   "sideBar": true,
   "skip_h1_title": false,
   "title_cell": "Table of Contents",
   "title_sidebar": "Contents",
   "toc_cell": false,
   "toc_position": {},
   "toc_section_display": true,
   "toc_window_display": false
  }
 },
 "nbformat": 4,
 "nbformat_minor": 1
}
